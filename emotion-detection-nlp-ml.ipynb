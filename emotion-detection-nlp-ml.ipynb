{
 "cells": [
  {
   "cell_type": "code",
   "execution_count": 1,
   "id": "8aa7d568",
   "metadata": {
    "_cell_guid": "b1076dfc-b9ad-4769-8c92-a6c4dae69d19",
    "_uuid": "8f2839f25d086af736a60e9eeb907d3b93b6e0e5",
    "execution": {
     "iopub.execute_input": "2024-12-11T09:32:22.743515Z",
     "iopub.status.busy": "2024-12-11T09:32:22.743100Z",
     "iopub.status.idle": "2024-12-11T09:32:23.629790Z",
     "shell.execute_reply": "2024-12-11T09:32:23.628521Z"
    },
    "papermill": {
     "duration": 0.896603,
     "end_time": "2024-12-11T09:32:23.632476",
     "exception": false,
     "start_time": "2024-12-11T09:32:22.735873",
     "status": "completed"
    },
    "tags": []
   },
   "outputs": [
    {
     "name": "stdout",
     "output_type": "stream",
     "text": [
      "/kaggle/input/emotions-dataset-for-nlp/val.txt\n",
      "/kaggle/input/emotions-dataset-for-nlp/test.txt\n",
      "/kaggle/input/emotions-dataset-for-nlp/train.txt\n"
     ]
    }
   ],
   "source": [
    "# This Python 3 environment comes with many helpful analytics libraries installed\n",
    "# It is defined by the kaggle/python Docker image: https://github.com/kaggle/docker-python\n",
    "# For example, here's several helpful packages to load\n",
    "\n",
    "import numpy as np # linear algebra\n",
    "import pandas as pd # data processing, CSV file I/O (e.g. pd.read_csv)\n",
    "\n",
    "# Input data files are available in the read-only \"../input/\" directory\n",
    "# For example, running this (by clicking run or pressing Shift+Enter) will list all files under the input directory\n",
    "\n",
    "import os\n",
    "for dirname, _, filenames in os.walk('/kaggle/input'):\n",
    "    for filename in filenames:\n",
    "        print(os.path.join(dirname, filename))\n",
    "\n",
    "# You can write up to 20GB to the current directory (/kaggle/working/) that gets preserved as output when you create a version using \"Save & Run All\" \n",
    "# You can also write temporary files to /kaggle/temp/, but they won't be saved outside of the current session"
   ]
  },
  {
   "cell_type": "markdown",
   "id": "0268b0df",
   "metadata": {
    "papermill": {
     "duration": 0.004782,
     "end_time": "2024-12-11T09:32:23.642535",
     "exception": false,
     "start_time": "2024-12-11T09:32:23.637753",
     "status": "completed"
    },
    "tags": []
   },
   "source": [
    "# Import Library's "
   ]
  },
  {
   "cell_type": "code",
   "execution_count": 2,
   "id": "12e8db09",
   "metadata": {
    "execution": {
     "iopub.execute_input": "2024-12-11T09:32:23.654487Z",
     "iopub.status.busy": "2024-12-11T09:32:23.653691Z",
     "iopub.status.idle": "2024-12-11T09:32:38.381413Z",
     "shell.execute_reply": "2024-12-11T09:32:38.380387Z"
    },
    "papermill": {
     "duration": 14.736537,
     "end_time": "2024-12-11T09:32:38.384003",
     "exception": false,
     "start_time": "2024-12-11T09:32:23.647466",
     "status": "completed"
    },
    "tags": []
   },
   "outputs": [],
   "source": [
    "import pandas as pd\n",
    "import numpy as np\n",
    "import keras\n",
    "import tensorflow as tf\n",
    "from tensorflow.keras.preprocessing.text import Tokenizer\n",
    "from tensorflow.keras.preprocessing.sequence import pad_sequences\n",
    "from sklearn.preprocessing import LabelEncoder\n",
    "from sklearn.model_selection import train_test_split\n",
    "from keras.models import Sequential\n",
    "from keras.layers import Embedding, Flatten, Dense"
   ]
  },
  {
   "cell_type": "markdown",
   "id": "c1db8084",
   "metadata": {
    "papermill": {
     "duration": 0.004604,
     "end_time": "2024-12-11T09:32:38.394875",
     "exception": false,
     "start_time": "2024-12-11T09:32:38.390271",
     "status": "completed"
    },
    "tags": []
   },
   "source": [
    "# Import Data"
   ]
  },
  {
   "cell_type": "code",
   "execution_count": 3,
   "id": "9dc6ddfc",
   "metadata": {
    "execution": {
     "iopub.execute_input": "2024-12-11T09:32:38.406940Z",
     "iopub.status.busy": "2024-12-11T09:32:38.405873Z",
     "iopub.status.idle": "2024-12-11T09:32:38.499900Z",
     "shell.execute_reply": "2024-12-11T09:32:38.498710Z"
    },
    "papermill": {
     "duration": 0.102693,
     "end_time": "2024-12-11T09:32:38.502432",
     "exception": false,
     "start_time": "2024-12-11T09:32:38.399739",
     "status": "completed"
    },
    "tags": []
   },
   "outputs": [
    {
     "name": "stdout",
     "output_type": "stream",
     "text": [
      "                                                Text  Emotions\n",
      "0  i can go from feeling so hopeless to so damned...   sadness\n",
      "1   im grabbing a minute to post i feel greedy wrong     anger\n",
      "2  i am ever feeling nostalgic about the fireplac...      love\n",
      "3                               i am feeling grouchy     anger\n",
      "4  ive been feeling a little burdened lately wasn...   sadness\n",
      "5  ive been taking or milligrams or times recomme...  surprise\n",
      "6  i feel as confused about life as a teenager or...      fear\n",
      "7  i have been with petronas for years i feel tha...       joy\n",
      "8                                i feel romantic too      love\n",
      "9  i feel like i have to make the suffering i m s...   sadness\n"
     ]
    }
   ],
   "source": [
    "data =pd.read_csv(\"/kaggle/input/emotions-dataset-for-nlp/train.txt\",sep=';')\n",
    "data.columns = [\"Text\",\"Emotions\"]\n",
    "print(data.head(10))"
   ]
  },
  {
   "cell_type": "code",
   "execution_count": 4,
   "id": "1f6cda52",
   "metadata": {
    "execution": {
     "iopub.execute_input": "2024-12-11T09:32:38.514326Z",
     "iopub.status.busy": "2024-12-11T09:32:38.513883Z",
     "iopub.status.idle": "2024-12-11T09:32:38.544521Z",
     "shell.execute_reply": "2024-12-11T09:32:38.543267Z"
    },
    "papermill": {
     "duration": 0.039,
     "end_time": "2024-12-11T09:32:38.546614",
     "exception": false,
     "start_time": "2024-12-11T09:32:38.507614",
     "status": "completed"
    },
    "tags": []
   },
   "outputs": [
    {
     "name": "stdout",
     "output_type": "stream",
     "text": [
      "<class 'pandas.core.frame.DataFrame'>\n",
      "RangeIndex: 15999 entries, 0 to 15998\n",
      "Data columns (total 2 columns):\n",
      " #   Column    Non-Null Count  Dtype \n",
      "---  ------    --------------  ----- \n",
      " 0   Text      15999 non-null  object\n",
      " 1   Emotions  15999 non-null  object\n",
      "dtypes: object(2)\n",
      "memory usage: 250.1+ KB\n"
     ]
    }
   ],
   "source": [
    "data.info()"
   ]
  },
  {
   "cell_type": "code",
   "execution_count": 5,
   "id": "cd530fc6",
   "metadata": {
    "execution": {
     "iopub.execute_input": "2024-12-11T09:32:38.559262Z",
     "iopub.status.busy": "2024-12-11T09:32:38.558321Z",
     "iopub.status.idle": "2024-12-11T09:32:38.570875Z",
     "shell.execute_reply": "2024-12-11T09:32:38.569668Z"
    },
    "papermill": {
     "duration": 0.021022,
     "end_time": "2024-12-11T09:32:38.573028",
     "exception": false,
     "start_time": "2024-12-11T09:32:38.552006",
     "status": "completed"
    },
    "tags": []
   },
   "outputs": [
    {
     "data": {
      "text/plain": [
       "<bound method NDFrame.describe of                                                     Text Emotions\n",
       "0      i can go from feeling so hopeless to so damned...  sadness\n",
       "1       im grabbing a minute to post i feel greedy wrong    anger\n",
       "2      i am ever feeling nostalgic about the fireplac...     love\n",
       "3                                   i am feeling grouchy    anger\n",
       "4      ive been feeling a little burdened lately wasn...  sadness\n",
       "...                                                  ...      ...\n",
       "15994  i just had a very brief time in the beanbag an...  sadness\n",
       "15995  i am now turning and i feel pathetic that i am...  sadness\n",
       "15996                     i feel strong and good overall      joy\n",
       "15997  i feel like this was such a rude comment and i...    anger\n",
       "15998  i know a lot but i feel so stupid because i ca...  sadness\n",
       "\n",
       "[15999 rows x 2 columns]>"
      ]
     },
     "execution_count": 5,
     "metadata": {},
     "output_type": "execute_result"
    }
   ],
   "source": [
    "data.describe"
   ]
  },
  {
   "cell_type": "code",
   "execution_count": 6,
   "id": "2e71362f",
   "metadata": {
    "execution": {
     "iopub.execute_input": "2024-12-11T09:32:38.585543Z",
     "iopub.status.busy": "2024-12-11T09:32:38.585183Z",
     "iopub.status.idle": "2024-12-11T09:32:38.590660Z",
     "shell.execute_reply": "2024-12-11T09:32:38.589614Z"
    },
    "papermill": {
     "duration": 0.014336,
     "end_time": "2024-12-11T09:32:38.592774",
     "exception": false,
     "start_time": "2024-12-11T09:32:38.578438",
     "status": "completed"
    },
    "tags": []
   },
   "outputs": [],
   "source": [
    "texts = data['Text'].tolist()\n",
    "labels = data['Emotions'].tolist()"
   ]
  },
  {
   "cell_type": "markdown",
   "id": "0dbe49f2",
   "metadata": {
    "papermill": {
     "duration": 0.005112,
     "end_time": "2024-12-11T09:32:38.603291",
     "exception": false,
     "start_time": "2024-12-11T09:32:38.598179",
     "status": "completed"
    },
    "tags": []
   },
   "source": [
    "# tokenize the text data "
   ]
  },
  {
   "cell_type": "code",
   "execution_count": 7,
   "id": "f19ce3cc",
   "metadata": {
    "execution": {
     "iopub.execute_input": "2024-12-11T09:32:38.616145Z",
     "iopub.status.busy": "2024-12-11T09:32:38.615264Z",
     "iopub.status.idle": "2024-12-11T09:32:39.193337Z",
     "shell.execute_reply": "2024-12-11T09:32:39.192152Z"
    },
    "papermill": {
     "duration": 0.586999,
     "end_time": "2024-12-11T09:32:39.195662",
     "exception": false,
     "start_time": "2024-12-11T09:32:38.608663",
     "status": "completed"
    },
    "tags": []
   },
   "outputs": [],
   "source": [
    "\n",
    "tokenizer = Tokenizer()\n",
    "tokenizer.fit_on_texts(texts)"
   ]
  },
  {
   "cell_type": "code",
   "execution_count": 8,
   "id": "20f94c8e",
   "metadata": {
    "execution": {
     "iopub.execute_input": "2024-12-11T09:32:39.213180Z",
     "iopub.status.busy": "2024-12-11T09:32:39.211741Z",
     "iopub.status.idle": "2024-12-11T09:32:39.497730Z",
     "shell.execute_reply": "2024-12-11T09:32:39.496562Z"
    },
    "papermill": {
     "duration": 0.29734,
     "end_time": "2024-12-11T09:32:39.500414",
     "exception": false,
     "start_time": "2024-12-11T09:32:39.203074",
     "status": "completed"
    },
    "tags": []
   },
   "outputs": [],
   "source": [
    "sequences = tokenizer.texts_to_sequences(texts)\n",
    "max_length = max([len(seq) for seq in sequences])\n",
    "padded_sequences = pad_sequences(sequences,maxlen = max_length)"
   ]
  },
  {
   "cell_type": "markdown",
   "id": "ed999ee7",
   "metadata": {
    "papermill": {
     "duration": 0.005049,
     "end_time": "2024-12-11T09:32:39.511031",
     "exception": false,
     "start_time": "2024-12-11T09:32:39.505982",
     "status": "completed"
    },
    "tags": []
   },
   "source": [
    "# Encode the string labels to integers"
   ]
  },
  {
   "cell_type": "code",
   "execution_count": 9,
   "id": "025b4e6d",
   "metadata": {
    "execution": {
     "iopub.execute_input": "2024-12-11T09:32:39.523397Z",
     "iopub.status.busy": "2024-12-11T09:32:39.523008Z",
     "iopub.status.idle": "2024-12-11T09:32:39.534790Z",
     "shell.execute_reply": "2024-12-11T09:32:39.533764Z"
    },
    "papermill": {
     "duration": 0.020869,
     "end_time": "2024-12-11T09:32:39.537276",
     "exception": false,
     "start_time": "2024-12-11T09:32:39.516407",
     "status": "completed"
    },
    "tags": []
   },
   "outputs": [],
   "source": [
    "\n",
    "label_encoder = LabelEncoder()\n",
    "labels = label_encoder.fit_transform(labels)"
   ]
  },
  {
   "cell_type": "markdown",
   "id": "609da980",
   "metadata": {
    "papermill": {
     "duration": 0.005277,
     "end_time": "2024-12-11T09:32:39.548060",
     "exception": false,
     "start_time": "2024-12-11T09:32:39.542783",
     "status": "completed"
    },
    "tags": []
   },
   "source": [
    " # here I'm doing one hot enocding !! \n",
    "**One hot encoding refers to the transformation of categorical labels into a binary representation where each label is represented as a vector of all zeros except a single 1. This is necessary because machine learning algorithms work with numerical data. So here is how we can One-hot encode the labels!!**"
   ]
  },
  {
   "cell_type": "markdown",
   "id": "8a552ea5",
   "metadata": {
    "papermill": {
     "duration": 0.004853,
     "end_time": "2024-12-11T09:32:39.558050",
     "exception": false,
     "start_time": "2024-12-11T09:32:39.553197",
     "status": "completed"
    },
    "tags": []
   },
   "source": [
    "# one-hot encoding the labels"
   ]
  },
  {
   "cell_type": "code",
   "execution_count": 10,
   "id": "3526c5f7",
   "metadata": {
    "execution": {
     "iopub.execute_input": "2024-12-11T09:32:39.570494Z",
     "iopub.status.busy": "2024-12-11T09:32:39.570129Z",
     "iopub.status.idle": "2024-12-11T09:32:39.576023Z",
     "shell.execute_reply": "2024-12-11T09:32:39.574775Z"
    },
    "papermill": {
     "duration": 0.014676,
     "end_time": "2024-12-11T09:32:39.578271",
     "exception": false,
     "start_time": "2024-12-11T09:32:39.563595",
     "status": "completed"
    },
    "tags": []
   },
   "outputs": [],
   "source": [
    "\n",
    "one_hot_labels = keras.utils . to_categorical(labels)"
   ]
  },
  {
   "cell_type": "markdown",
   "id": "8d4f4307",
   "metadata": {
    "papermill": {
     "duration": 0.005065,
     "end_time": "2024-12-11T09:32:39.588718",
     "exception": false,
     "start_time": "2024-12-11T09:32:39.583653",
     "status": "completed"
    },
    "tags": []
   },
   "source": [
    " # split the data into training and testing sets "
   ]
  },
  {
   "cell_type": "code",
   "execution_count": 11,
   "id": "b3668e6f",
   "metadata": {
    "execution": {
     "iopub.execute_input": "2024-12-11T09:32:39.600957Z",
     "iopub.status.busy": "2024-12-11T09:32:39.600529Z",
     "iopub.status.idle": "2024-12-11T09:32:39.615087Z",
     "shell.execute_reply": "2024-12-11T09:32:39.613979Z"
    },
    "papermill": {
     "duration": 0.023525,
     "end_time": "2024-12-11T09:32:39.617621",
     "exception": false,
     "start_time": "2024-12-11T09:32:39.594096",
     "status": "completed"
    },
    "tags": []
   },
   "outputs": [],
   "source": [
    "\n",
    "xtrain,xtest,ytrain , ytest = train_test_split(padded_sequences,one_hot_labels,test_size=0.2)"
   ]
  },
  {
   "cell_type": "markdown",
   "id": "9f2a2653",
   "metadata": {
    "papermill": {
     "duration": 0.00511,
     "end_time": "2024-12-11T09:32:39.628115",
     "exception": false,
     "start_time": "2024-12-11T09:32:39.623005",
     "status": "completed"
    },
    "tags": []
   },
   "source": [
    "# Define the model"
   ]
  },
  {
   "cell_type": "code",
   "execution_count": 12,
   "id": "97d2083f",
   "metadata": {
    "execution": {
     "iopub.execute_input": "2024-12-11T09:32:39.640247Z",
     "iopub.status.busy": "2024-12-11T09:32:39.639855Z",
     "iopub.status.idle": "2024-12-11T09:33:55.992174Z",
     "shell.execute_reply": "2024-12-11T09:33:55.990998Z"
    },
    "papermill": {
     "duration": 76.361111,
     "end_time": "2024-12-11T09:33:55.994581",
     "exception": false,
     "start_time": "2024-12-11T09:32:39.633470",
     "status": "completed"
    },
    "tags": []
   },
   "outputs": [
    {
     "name": "stdout",
     "output_type": "stream",
     "text": [
      "Epoch 1/10\n"
     ]
    },
    {
     "name": "stderr",
     "output_type": "stream",
     "text": [
      "/opt/conda/lib/python3.10/site-packages/keras/src/layers/core/embedding.py:90: UserWarning: Argument `input_length` is deprecated. Just remove it.\n",
      "  warnings.warn(\n"
     ]
    },
    {
     "name": "stdout",
     "output_type": "stream",
     "text": [
      "\u001b[1m400/400\u001b[0m \u001b[32m━━━━━━━━━━━━━━━━━━━━\u001b[0m\u001b[37m\u001b[0m \u001b[1m9s\u001b[0m 19ms/step - accuracy: 0.3812 - loss: 1.5193 - val_accuracy: 0.6959 - val_loss: 0.8689\n",
      "Epoch 2/10\n",
      "\u001b[1m400/400\u001b[0m \u001b[32m━━━━━━━━━━━━━━━━━━━━\u001b[0m\u001b[37m\u001b[0m \u001b[1m8s\u001b[0m 19ms/step - accuracy: 0.8686 - loss: 0.4306 - val_accuracy: 0.8206 - val_loss: 0.5571\n",
      "Epoch 3/10\n",
      "\u001b[1m400/400\u001b[0m \u001b[32m━━━━━━━━━━━━━━━━━━━━\u001b[0m\u001b[37m\u001b[0m \u001b[1m7s\u001b[0m 19ms/step - accuracy: 0.9840 - loss: 0.0642 - val_accuracy: 0.8309 - val_loss: 0.5639\n",
      "Epoch 4/10\n",
      "\u001b[1m400/400\u001b[0m \u001b[32m━━━━━━━━━━━━━━━━━━━━\u001b[0m\u001b[37m\u001b[0m \u001b[1m8s\u001b[0m 19ms/step - accuracy: 0.9956 - loss: 0.0230 - val_accuracy: 0.8306 - val_loss: 0.6014\n",
      "Epoch 5/10\n",
      "\u001b[1m400/400\u001b[0m \u001b[32m━━━━━━━━━━━━━━━━━━━━\u001b[0m\u001b[37m\u001b[0m \u001b[1m7s\u001b[0m 18ms/step - accuracy: 0.9962 - loss: 0.0174 - val_accuracy: 0.8272 - val_loss: 0.6052\n",
      "Epoch 6/10\n",
      "\u001b[1m400/400\u001b[0m \u001b[32m━━━━━━━━━━━━━━━━━━━━\u001b[0m\u001b[37m\u001b[0m \u001b[1m7s\u001b[0m 19ms/step - accuracy: 0.9979 - loss: 0.0112 - val_accuracy: 0.8194 - val_loss: 0.6389\n",
      "Epoch 7/10\n",
      "\u001b[1m400/400\u001b[0m \u001b[32m━━━━━━━━━━━━━━━━━━━━\u001b[0m\u001b[37m\u001b[0m \u001b[1m7s\u001b[0m 18ms/step - accuracy: 0.9975 - loss: 0.0115 - val_accuracy: 0.8188 - val_loss: 0.7330\n",
      "Epoch 8/10\n",
      "\u001b[1m400/400\u001b[0m \u001b[32m━━━━━━━━━━━━━━━━━━━━\u001b[0m\u001b[37m\u001b[0m \u001b[1m8s\u001b[0m 19ms/step - accuracy: 0.9978 - loss: 0.0097 - val_accuracy: 0.8191 - val_loss: 0.6946\n",
      "Epoch 9/10\n",
      "\u001b[1m400/400\u001b[0m \u001b[32m━━━━━━━━━━━━━━━━━━━━\u001b[0m\u001b[37m\u001b[0m \u001b[1m7s\u001b[0m 18ms/step - accuracy: 0.9971 - loss: 0.0092 - val_accuracy: 0.8150 - val_loss: 0.7668\n",
      "Epoch 10/10\n",
      "\u001b[1m400/400\u001b[0m \u001b[32m━━━━━━━━━━━━━━━━━━━━\u001b[0m\u001b[37m\u001b[0m \u001b[1m7s\u001b[0m 18ms/step - accuracy: 0.9979 - loss: 0.0085 - val_accuracy: 0.8181 - val_loss: 0.7165\n"
     ]
    },
    {
     "data": {
      "text/plain": [
       "<keras.src.callbacks.history.History at 0x7cd0bf77d720>"
      ]
     },
     "execution_count": 12,
     "metadata": {},
     "output_type": "execute_result"
    }
   ],
   "source": [
    "\n",
    "model = Sequential()\n",
    "model.add(Embedding(input_dim=len(tokenizer.word_index) + 1, \n",
    "                    output_dim=128, input_length=max_length))\n",
    "model.add(Flatten())\n",
    "model.add(Dense(units=128, activation=\"relu\"))\n",
    "model.add(Dense(units=len(one_hot_labels[0]), activation=\"softmax\"))\n",
    "\n",
    "model.compile(optimizer=\"adam\", loss=\"categorical_crossentropy\", metrics=[\"accuracy\"])\n",
    "model.fit(xtrain, ytrain, epochs=10, batch_size=32, validation_data=(xtest, ytest))"
   ]
  },
  {
   "cell_type": "markdown",
   "id": "37c337f9",
   "metadata": {
    "papermill": {
     "duration": 0.078003,
     "end_time": "2024-12-11T09:33:56.151988",
     "exception": false,
     "start_time": "2024-12-11T09:33:56.073985",
     "status": "completed"
    },
    "tags": []
   },
   "source": [
    "# Testing the model"
   ]
  },
  {
   "cell_type": "code",
   "execution_count": 13,
   "id": "883f30af",
   "metadata": {
    "execution": {
     "iopub.execute_input": "2024-12-11T09:33:56.313379Z",
     "iopub.status.busy": "2024-12-11T09:33:56.312981Z",
     "iopub.status.idle": "2024-12-11T09:33:56.444951Z",
     "shell.execute_reply": "2024-12-11T09:33:56.443499Z"
    },
    "papermill": {
     "duration": 0.21562,
     "end_time": "2024-12-11T09:33:56.447477",
     "exception": false,
     "start_time": "2024-12-11T09:33:56.231857",
     "status": "completed"
    },
    "tags": []
   },
   "outputs": [
    {
     "name": "stdout",
     "output_type": "stream",
     "text": [
      "\u001b[1m1/1\u001b[0m \u001b[32m━━━━━━━━━━━━━━━━━━━━\u001b[0m\u001b[37m\u001b[0m \u001b[1m0s\u001b[0m 69ms/step\n",
      "['sadness']\n"
     ]
    }
   ],
   "source": [
    "#Example 1.\n",
    "input_text = \"I feel hurt because he cheated on me with his best friend\"\n",
    "\n",
    "# Preprocess the input text\n",
    "input_sequence = tokenizer.texts_to_sequences([input_text])\n",
    "padded_input_sequence = pad_sequences(input_sequence, maxlen=max_length)\n",
    "prediction = model.predict(padded_input_sequence)\n",
    "predicted_label = label_encoder.inverse_transform([np.argmax(prediction[0])])\n",
    "print(predicted_label)"
   ]
  },
  {
   "cell_type": "markdown",
   "id": "f61de0ef",
   "metadata": {
    "papermill": {
     "duration": 0.080289,
     "end_time": "2024-12-11T09:33:56.607779",
     "exception": false,
     "start_time": "2024-12-11T09:33:56.527490",
     "status": "completed"
    },
    "tags": []
   },
   "source": [
    "# Explanation  "
   ]
  },
  {
   "cell_type": "markdown",
   "id": "b2d4f582",
   "metadata": {
    "papermill": {
     "duration": 0.133868,
     "end_time": "2024-12-11T09:33:56.822508",
     "exception": false,
     "start_time": "2024-12-11T09:33:56.688640",
     "status": "completed"
    },
    "tags": []
   },
   "source": [
    "\n",
    "**input_text = \"I feel hurt because he cheated on me with his best friend\"The emotion expressed in this line is a combination of hurt, betrayal, and sadness,but...ML model might classify this sentence as \"angry\" could be due to how it interprets certain words or phrases. Words like \"hate\" or strong expressions of betrayal (e.g., \"cheated on me\") are often associated with anger in many sentiment analysis datasets, even if the underlying emotion is more complex.**\n"
   ]
  },
  {
   "cell_type": "code",
   "execution_count": 14,
   "id": "81f733da",
   "metadata": {
    "execution": {
     "iopub.execute_input": "2024-12-11T09:33:56.980496Z",
     "iopub.status.busy": "2024-12-11T09:33:56.980044Z",
     "iopub.status.idle": "2024-12-11T09:33:57.057259Z",
     "shell.execute_reply": "2024-12-11T09:33:57.056073Z"
    },
    "papermill": {
     "duration": 0.158848,
     "end_time": "2024-12-11T09:33:57.059428",
     "exception": false,
     "start_time": "2024-12-11T09:33:56.900580",
     "status": "completed"
    },
    "tags": []
   },
   "outputs": [
    {
     "name": "stdout",
     "output_type": "stream",
     "text": [
      "\u001b[1m1/1\u001b[0m \u001b[32m━━━━━━━━━━━━━━━━━━━━\u001b[0m\u001b[37m\u001b[0m \u001b[1m0s\u001b[0m 20ms/step\n",
      "['sadness']\n"
     ]
    }
   ],
   "source": [
    "#Exmaple 2\n",
    "input_text = \"She fell from the chair, and everyone started teasing her and making fun of her.\"\n",
    "\n",
    "# Preprocess the input text\n",
    "input_sequence = tokenizer.texts_to_sequences([input_text])\n",
    "padded_input_sequence = pad_sequences(input_sequence, maxlen=max_length)\n",
    "prediction = model.predict(padded_input_sequence)\n",
    "predicted_label = label_encoder.inverse_transform([np.argmax(prediction[0])])\n",
    "print(predicted_label)"
   ]
  },
  {
   "cell_type": "markdown",
   "id": "44d6f910",
   "metadata": {
    "papermill": {
     "duration": 0.081291,
     "end_time": "2024-12-11T09:33:57.219433",
     "exception": false,
     "start_time": "2024-12-11T09:33:57.138142",
     "status": "completed"
    },
    "tags": []
   },
   "source": [
    "# Apllications\n",
    "\n",
    "**1. Customer Service and Support\n",
    "2. Chatbots and Virtual Assistants\n",
    "3.Sentiment Analysis for Feedback: Analyze customer 4.Prioritize Critical Queries\n",
    "5.Well-being Apps\n",
    "6.Content Recommendation\n",
    "7.Emotionally Aware AI\n",
    "8.the keyboard of an iPhone that recommends the most relevant emoji by understanding the text**\n"
   ]
  },
  {
   "cell_type": "markdown",
   "id": "fdd76552",
   "metadata": {
    "papermill": {
     "duration": 0.078259,
     "end_time": "2024-12-11T09:33:57.379093",
     "exception": false,
     "start_time": "2024-12-11T09:33:57.300834",
     "status": "completed"
    },
    "tags": []
   },
   "source": [
    "**Thanks!!**"
   ]
  }
 ],
 "metadata": {
  "kaggle": {
   "accelerator": "none",
   "dataSources": [
    {
     "datasetId": 605165,
     "sourceId": 1085454,
     "sourceType": "datasetVersion"
    }
   ],
   "dockerImageVersionId": 30804,
   "isGpuEnabled": false,
   "isInternetEnabled": true,
   "language": "python",
   "sourceType": "notebook"
  },
  "kernelspec": {
   "display_name": "Python 3",
   "language": "python",
   "name": "python3"
  },
  "language_info": {
   "codemirror_mode": {
    "name": "ipython",
    "version": 3
   },
   "file_extension": ".py",
   "mimetype": "text/x-python",
   "name": "python",
   "nbconvert_exporter": "python",
   "pygments_lexer": "ipython3",
   "version": "3.10.14"
  },
  "papermill": {
   "default_parameters": {},
   "duration": 98.905858,
   "end_time": "2024-12-11T09:33:58.980631",
   "environment_variables": {},
   "exception": null,
   "input_path": "__notebook__.ipynb",
   "output_path": "__notebook__.ipynb",
   "parameters": {},
   "start_time": "2024-12-11T09:32:20.074773",
   "version": "2.6.0"
  }
 },
 "nbformat": 4,
 "nbformat_minor": 5
}
